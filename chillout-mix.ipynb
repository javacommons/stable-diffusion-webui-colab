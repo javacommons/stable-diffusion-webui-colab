{
  "nbformat": 4,
  "nbformat_minor": 0,
  "metadata": {
    "colab": {
      "private_outputs": true,
      "provenance": [],
      "gpuType": "A100",
      "authorship_tag": "ABX9TyPy8BKy9QLT7Axf8FPCXZc7",
      "include_colab_link": true
    },
    "kernelspec": {
      "name": "python3",
      "display_name": "Python 3"
    },
    "language_info": {
      "name": "python"
    },
    "accelerator": "GPU",
    "gpuClass": "standard"
  },
  "cells": [
    {
      "cell_type": "markdown",
      "metadata": {
        "id": "view-in-github",
        "colab_type": "text"
      },
      "source": [
        "<a href=\"https://colab.research.google.com/github/javacommons/stable-diffusion-webui-colab/blob/main/chillout-mix.ipynb\" target=\"_parent\"><img src=\"https://colab.research.google.com/assets/colab-badge.svg\" alt=\"Open In Colab\"/></a>"
      ]
    },
    {
      "cell_type": "code",
      "execution_count": null,
      "metadata": {
        "id": "JOTiSsGL0RZ-"
      },
      "outputs": [],
      "source": [
        "!pip install --upgrade Pillow\n",
        "!echo \"Y\" | pip uninstall torchvision\n",
        "!echo \"Y\" | pip install torchvision==1.9.0\n",
        "\n",
        "!git clone https://github.com/AUTOMATIC1111/stable-diffusion-webui\n",
        "%cd /content/stable-diffusion-webui\n",
        "\n",
        "!wget https://civitai.com/api/download/models/11745 -O /content/stable-diffusion-webui/models/Stable-diffusion/Chilloutmix-Ni-pruned-fp32-fix.safetensors\n",
        "\n",
        "!python launch.py --share --xformers --enable-insecure-extension-access\n"
      ]
    }
  ]
}